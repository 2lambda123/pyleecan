{
 "cells": [
  {
   "cell_type": "markdown",
   "metadata": {},
   "source": [
    "# Validation case for the loss model\n",
    "\n",
    "This validation case is based on a [FEMM websites' page](https://www.femm.info/wiki/SPMLoss)"
   ]
  },
  {
   "cell_type": "markdown",
   "metadata": {},
   "source": [
    "## Definition of the machine\n",
    "\n",
    "The machine has been defined in the pyleecan GUI. Then, it must be imported."
   ]
  },
  {
   "cell_type": "code",
   "execution_count": 1,
   "metadata": {},
   "outputs": [
    {
     "name": "stdout",
     "output_type": "stream",
     "text": [
      "PYLEECAN version : 1.3.8\n"
     ]
    }
   ],
   "source": [
    "%matplotlib inline\n",
    "import sys\n",
    "sys.path.append('..')\n",
    "from os.path import join\n",
    "import pyleecan\n",
    "print(f'PYLEECAN version : {pyleecan.__version__}')\n",
    "from pyleecan.Functions.load import load\n",
    "from pyleecan.definitions import DATA_DIR\n",
    "\n",
    "\n",
    "machine = load(join(DATA_DIR, \"Machine\", \"Toyota_Prius_loss.json\"))\n",
    "machine.plot()"
   ]
  },
  {
   "cell_type": "markdown",
   "metadata": {},
   "source": [
    "## Definition of the simulation\n",
    "\n",
    "A simulation is defined by simply creating an instance of the Simu1 object, with a name and the machine that was defined previously."
   ]
  },
  {
   "cell_type": "code",
   "execution_count": 2,
   "metadata": {},
   "outputs": [],
   "source": [
    "from pyleecan.Classes.Simu1 import Simu1\n",
    "\n",
    "simu = Simu1(name=\"test_FEMM_Loss_Prius\", machine=machine)"
   ]
  },
  {
   "cell_type": "markdown",
   "metadata": {},
   "source": [
    "In this simulation, we will need to run the magnetic module. Thus, it has to be defined, but beforehand, we need to create an InputCurrent object to set the excitation current for the magnetic module."
   ]
  },
  {
   "cell_type": "code",
   "execution_count": 3,
   "metadata": {},
   "outputs": [],
   "source": [
    "from pyleecan.Classes.InputCurrent import InputCurrent\n",
    "from pyleecan.Classes.MagFEMM import MagFEMM\n",
    "from pyleecan.Classes.OPdq import OPdq\n",
    "import numpy as np\n",
    "\n",
    "Ic = 230 * np.exp(1j * 140 * np.pi / 180)\n",
    "\n",
    "simu.input = InputCurrent(\n",
    "    Nt_tot= 40 * 8,\n",
    "    Na_tot=200 * 8,\n",
    "    OP=OPdq(N0=1200, Id_ref=Ic.real, Iq_ref=Ic.imag),\n",
    "    is_periodicity_t=True,\n",
    "    is_periodicity_a=True,\n",
    ")\n",
    "\n",
    "simu.mag = MagFEMM(\n",
    "    is_periodicity_a=True,\n",
    "    is_periodicity_t=True,\n",
    "    nb_worker=4,\n",
    "    is_get_meshsolution=True,\n",
    "    is_fast_draw=True,\n",
    "    is_calc_torque_energy=False,\n",
    ")"
   ]
  },
  {
   "cell_type": "markdown",
   "metadata": {},
   "source": [
    "Then, we need to create a loss object to compute the loss. This loss object needs to be given the loss coeficients, obtained by curve fitting from material data. Here, the coefficients are taken from the FEMM website."
   ]
  },
  {
   "cell_type": "code",
   "execution_count": 4,
   "metadata": {},
   "outputs": [],
   "source": [
    "from pyleecan.Classes.LossFEMM import LossFEMM\n",
    "from pyleecan.Classes.LossModelSteinmetz import LossModelSteinmetz\n",
    "\n",
    "Cprox = 1  # sigma_w * cond.Hwire * cond.Wwire\n",
    "\n",
    "loss_model = LossModelSteinmetz()\n",
    "simu.loss = LossFEMM(\n",
    "    Cp=Cprox,\n",
    "    is_get_meshsolution=True,\n",
    "    Tsta=100,\n",
    "    type_skin_effect=0,\n",
    "    Loss_model_dict={\"stator core\": loss_model, \"rotor core\": loss_model},\n",
    ")\n"
   ]
  },
  {
   "cell_type": "markdown",
   "metadata": {},
   "source": [
    "## Simulation\n",
    "\n",
    "Now that the simulation is properly set up, it can simply be run with the run method. The output will be store as the out variable."
   ]
  },
  {
   "cell_type": "code",
   "execution_count": 5,
   "metadata": {},
   "outputs": [
    {
     "name": "stdout",
     "output_type": "stream",
     "text": [
      "[17:03:19] Starting running simulation test_FEMM_Loss_Prius (machine=Toyota_Prius_loss)\n",
      "[17:03:19] Starting Magnetic module\n",
      "[17:03:20] Solving time steps: 0%\n",
      "[17:03:21] Solving time steps: 0%\n",
      "[17:03:21] Solving time steps: 0%\n",
      "[17:03:22] Solving time steps: 0%\n",
      "[17:03:26] Solving time steps: 25%\n",
      "[17:03:26] Solving time steps: 25%\n",
      "[17:03:27] Solving time steps: 25%\n",
      "[17:03:28] Solving time steps: 25%\n",
      "[17:03:32] Solving time steps: 50%\n",
      "[17:03:33] Solving time steps: 50%\n",
      "[17:03:33] Solving time steps: 50%\n",
      "[17:03:34] Solving time steps: 50%\n",
      "[17:03:40] Solving time steps: 75%\n",
      "[17:03:41] Solving time steps: 75%\n",
      "[17:03:41] Solving time steps: 75%\n",
      "[17:03:42] Solving time steps: 75%\n",
      "[17:03:44] Solving time step: 100%\n",
      "[17:03:45] Solving time step: 100%\n",
      "[17:03:45] Solving time step: 100%\n",
      "[17:03:46] Solving time step: 100%\n",
      "[17:03:46] Running LossFEMM module\n",
      "[2.44201111e-03 3.18845832e-05 1.43555598e+00 2.33146377e+00]\n",
      "[[array([5.00e+01, 1.00e-01, 1.66e-02]), array([50.    ,  0.2   ,  0.0692]), array([50.    ,  0.3   ,  0.1543]), array([50.    ,  0.4   ,  0.2392]), array([50.    ,  0.5   ,  0.3527]), array([50.   ,  0.6  ,  0.463]), array([50.    ,  0.7   ,  0.6019]), array([50.    ,  0.8   ,  0.7496]), array([50.    ,  0.9   ,  0.9039]), array([50.    ,  1.    ,  1.0891]), array([50.    ,  1.1   ,  1.2787]), array([50.    ,  1.2   ,  1.5146]), array([50.    ,  1.3   ,  1.7902]), array([50.    ,  1.4   ,  2.1363]), array([50.    ,  1.5   ,  2.5596]), array([50.    ,  1.6   ,  2.9593]), array([50.    ,  1.7   ,  3.2894])], [array([6.00e+01, 1.00e-01, 2.07e-02]), array([60.   ,  0.2  ,  0.086]), array([60.    ,  0.3   ,  0.1786]), array([60.    ,  0.4   ,  0.2954]), array([60.    ,  0.5   ,  0.4321]), array([60.   ,  0.6  ,  0.582]), array([60.    ,  0.7   ,  0.7496]), array([60.    ,  0.8   ,  0.9326]), array([60.   ,  0.9  ,  1.131]), array([60.    ,  1.    ,  1.3603]), array([60.    ,  1.1   ,  1.5961]), array([60.    ,  1.2   ,  1.8916]), array([60.    ,  1.3   ,  2.2355]), array([60.    ,  1.4   ,  2.6654]), array([60.    ,  1.5   ,  3.1747]), array([60.    ,  1.6   ,  3.6751]), array([60.   ,  1.7  ,  4.083]), array([60.    ,  1.8   ,  4.4026])], [array([1.00e+02, 1.00e-01, 3.81e-02]), array([100.    ,   0.2   ,   0.1579]), array([100.    ,   0.3   ,   0.3417]), array([100.    ,   0.4   ,   0.5556]), array([100.    ,   0.5   ,   0.8157]), array([100.    ,   0.6   ,   1.0803]), array([100.    ,   0.7   ,   1.4264]), array([100.    ,   0.8   ,   1.7637]), array([100.    ,   0.9   ,   2.1164]), array([100.    ,   1.    ,   2.6059]), array([100.    ,   1.1   ,   3.0865]), array([100.    ,   1.2   ,   3.6332]), array([100.    ,   1.3   ,   4.2814]), array([100.    ,   1.4   ,   5.0927]), array([100.    ,   1.5   ,   6.1068]), array([100.    ,   1.6   ,   7.0081]), array([100.    ,   1.7   ,   7.8053])], [array([1.50e+02, 1.00e-01, 6.37e-02]), array([150.    ,   0.2   ,   0.2616]), array([150.    ,   0.3   ,   0.5842]), array([150.    ,   0.4   ,   0.9348]), array([150.    ,   0.5   ,   1.3691]), array([150.    ,   0.6   ,   1.9401]), array([150.    ,   0.7   ,   2.4383]), array([150.    ,   0.8   ,   3.0865]), array([150.    ,   0.9   ,   3.7479]), array([150.    ,   1.    ,   4.4974]), array([150.    ,   1.1   ,   5.4013]), array([150.    ,   1.2   ,   6.3052]), array([150.    ,   1.3   ,   7.4075]), array([150.    ,   1.4   ,   8.8185]), array([150.   ,   1.5  ,  10.494]), array([150.    ,   1.6   ,  12.0512]), array([150.    ,   1.7   ,  13.4231])], [array([2.00e+02, 1.00e-01, 9.33e-02]), array([200.    ,   0.2   ,   0.3821]), array([200.    ,   0.3   ,   0.8598]), array([200.    ,   0.4   ,   1.3691]), array([200.    ,   0.5   ,   2.0062]), array([200.    ,   0.6   ,   2.6896]), array([200.    ,   0.7   ,   3.6156]), array([200.    ,   0.8   ,   4.6297]), array([200.   ,   0.9  ,   5.732]), array([200.    ,   1.    ,   6.7461]), array([200.    ,   1.1   ,   8.0469]), array([200.    ,   1.2   ,   9.4578]), array([200.    ,   1.3   ,  11.1554]), array([200.    ,   1.4   ,  13.2277]), array([200.    ,   1.5   ,  15.7631]), array([200.    ,   1.6   ,  18.0547]), array([200.   ,   1.7  ,  20.126])], [array([3.000e+02, 1.000e-01, 1.629e-01]), array([3.000e+02, 2.000e-01, 6.614e-01]), array([300.    ,   0.3   ,   1.4991]), array([300.   ,   0.4  ,   2.392]), array([300.    ,   0.5   ,   3.5274]), array([300.    ,   0.6   ,   4.8502]), array([300.    ,   0.7   ,   6.4375]), array([300.    ,   0.8   ,   8.1571]), array([300.    ,   0.9   ,   9.9208]), array([300.    ,   1.    ,  12.1916]), array([300.  ,   1.1 ,  14.33]), array([300.    ,   1.2   ,  17.2622]), array([300.    ,   1.3   ,  20.3487]), array([300.    ,   1.4   ,  24.0745]), array([300.    ,   1.5   ,  28.6601])], [array([4.000e+02, 1.000e-01, 2.467e-01]), array([4.000e+02, 2.000e-01, 9.943e-01]), array([4.0000e+02, 3.0000e-01, 2.2046e+00]), array([400.    ,   0.4   ,   3.6046]), array([400.    ,   0.5   ,   5.4013]), array([400.    ,   0.6   ,   7.3855]), array([400.    ,   0.7   ,   9.8106]), array([400.    ,   0.8   ,  12.3459]), array([400.    ,   0.9   ,  15.5426]), array([400.    ,   1.    ,  18.9377]), array([400.    ,   1.1   ,  22.9281]), array([400.    ,   1.2   ,  26.9024]), array([400.    ,   1.3   ,  31.7674]), array([400.    ,   1.4   ,  37.4784]), array([400.    ,   1.5   ,  44.4103])], [array([6.000e+02, 1.000e-01, 4.519e-01]), array([6.0000e+02, 2.0000e-01, 1.7902e+00]), array([6.0000e+02, 3.0000e-01, 3.7479e+00]), array([6.0000e+02, 4.0000e-01, 6.5257e+00]), array([6.0000e+02, 5.0000e-01, 9.7003e+00]), array([600.    ,   0.6   ,  13.6687]), array([600.    ,   0.7   ,  18.0338]), array([600.    ,   0.8   ,  22.8178]), array([600.   ,   0.9  ,  29.101]), array([600.    ,   1.    ,  35.6708]), array([600.    ,   1.1   ,  43.2106]), array([600.    ,   1.2   ,  51.8086]), array([600.    ,   1.3   ,  61.3103])], [array([1.0000e+03, 1.0000e-01, 1.0251e+00]), array([1.0000e+03, 2.0000e-01, 3.9381e+00]), array([1.0000e+03, 3.0000e-01, 8.2673e+00]), array([1.00000e+03, 4.00000e-01, 1.39766e+01]), array([1.00000e+03, 5.00000e-01, 2.08337e+01]), array([1.00000e+03, 6.00000e-01, 2.95419e+01]), array([1.00000e+03, 7.00000e-01, 3.91384e+01]), array([1.00000e+03, 8.00000e-01, 5.07063e+01]), array([1.0000e+03, 9.0000e-01, 6.4375e+01]), array([1000.   ,    1.   ,   80.034]), array([1000.    ,    1.1   ,   97.8852]), array([1000.    ,    1.2   ,  119.6175]), array([1000.    ,    1.3   ,  143.5208])], [array([1.5000e+03, 1.0000e-01, 1.9831e+00]), array([1.5000e+03, 2.0000e-01, 7.4297e+00]), array([1.50000e+03, 3.00000e-01, 1.58733e+01]), array([1.50000e+03, 4.00000e-01, 2.60906e+01]), array([1.50000e+03, 5.00000e-01, 4.07855e+01]), array([1.50000e+03, 6.00000e-01, 5.48951e+01]), array([1.50000e+03, 7.00000e-01, 7.43402e+01]), array([1.50000e+03, 8.00000e-01, 9.87671e+01]), array([1.500000e+03, 9.000000e-01, 1.256635e+02]), array([1.500000e+03, 1.000000e+00, 1.576949e+02]), array([1.500000e+03, 1.100000e+00, 1.940068e+02]), array([1.500000e+03, 1.200000e+00, 2.402925e+02]), array([1.500000e+03, 1.300000e+00, 2.908291e+02])], [array([2.0000e+03, 1.0000e-01, 3.1989e+00]), array([2.00000e+03, 2.00000e-01, 1.17238e+01]), array([2.00000e+03, 3.00000e-01, 2.27076e+01]), array([2.00000e+03, 4.00000e-01, 4.08371e+01]), array([2.00000e+03, 5.00000e-01, 6.28317e+01]), array([2.00000e+03, 6.00000e-01, 8.81849e+01]), array([2.000000e+03, 7.000000e-01, 1.189862e+02]), array([2.000000e+03, 8.000000e-01, 1.565282e+02]), array([2.000000e+03, 9.000000e-01, 2.006207e+02]), array([2.00000e+03, 1.00000e+00, 2.57284e+02]), array([2.000000e+03, 1.100000e+00, 3.196703e+02]), array([2.000000e+03, 1.200000e+00, 3.953341e+02])]]\n",
      "[50.0, 60.0, 100.0, 150.0, 200.0, 300.0, 400.0, 600.0, 1000.0, 1500.0, 2000.0]\n",
      "[17:03:47] End of simulation test_FEMM_Loss_Prius\n"
     ]
    }
   ],
   "source": [
    "out = simu.run()"
   ]
  },
  {
   "cell_type": "markdown",
   "metadata": {},
   "source": [
    "## Post processing\n",
    "\n",
    "All the usefull quantities are stored in the output object so post processing can be made. For exemple, it is now possible to get all the different powers (mechanical and losses)."
   ]
  },
  {
   "cell_type": "code",
   "execution_count": 6,
   "metadata": {},
   "outputs": [
    {
     "name": "stdout",
     "output_type": "stream",
     "text": [
      "{'total_power': 55542.336042173876, 'overall_losses': 9263.255226809926, 'stator_loss': 198.4939398387154, 'copper_loss': 9045.479731669064, 'rotor_loss': 12.956996722114837, 'magnet_loss': 5.1963764498399225, 'proximity_loss': 1.128182130191667}\n"
     ]
    }
   ],
   "source": [
    "power_dict = {\n",
    "    \"total_power\": out.mag.Pem_av,\n",
    "    \"overall_losses\": out.loss.get_loss_overall(),\n",
    "    \"stator_loss\": out.loss.Pstator,\n",
    "    \"copper_loss\": out.loss.Pjoule,\n",
    "    \"rotor_loss\": out.loss.Protor,\n",
    "    \"magnet_loss\": out.loss.Pmagnet,\n",
    "    \"proximity_loss\": out.loss.Pprox,\n",
    "}\n",
    "print(power_dict)"
   ]
  },
  {
   "cell_type": "markdown",
   "metadata": {},
   "source": [
    "## Drawing maps of the machine\n",
    "\n",
    "Is is possible to draw for example the map of the flux density in the machine."
   ]
  },
  {
   "cell_type": "code",
   "execution_count": 7,
   "metadata": {},
   "outputs": [
    {
     "data": {
      "text/html": [
       "<pre style=\"white-space:pre;overflow-x:auto;line-height:normal;font-family:Menlo,'DejaVu Sans Mono',consolas,'Courier New',monospace\"><span style=\"color: #808000; text-decoration-color: #808000; font-weight: bold\">Warning:</span><span style=\"color: #808000; text-decoration-color: #808000\"> VTK requires 3D points, but 2D points given. Appending </span><span style=\"color: #808000; text-decoration-color: #808000; font-weight: bold\">0</span><span style=\"color: #808000; text-decoration-color: #808000\"> third component.</span>\n",
       "</pre>\n"
      ],
      "text/plain": [
       "\u001b[1;33mWarning:\u001b[0m\u001b[33m VTK requires 3D points, but 2D points given. Appending \u001b[0m\u001b[1;33m0\u001b[0m\u001b[33m third component.\u001b[0m\n"
      ]
     },
     "metadata": {},
     "output_type": "display_data"
    }
   ],
   "source": [
    "out.loss.meshsol_list[0].plot_contour(\n",
    "    \"freqs=sum\",\n",
    "    label=\"Loss\",\n",
    "    group_names=[\n",
    "        \"stator core\",\n",
    "        # \"stator winding\",\n",
    "        \"rotor core\",\n",
    "        \"rotor magnets\",\n",
    "    ],\n",
    "    # clim=[2e4, 2e7],\n",
    ")"
   ]
  },
  {
   "cell_type": "markdown",
   "metadata": {},
   "source": [
    "## Study at variable speed \n",
    "\n",
    "After the simulation, coefficients are computed to enable calculating the losses at different speeds without runnning another simualtion. This allows to easily plot the variation of the different losses as a function of the rotation speed of the rotor."
   ]
  },
  {
   "cell_type": "code",
   "execution_count": 8,
   "metadata": {},
   "outputs": [
    {
     "name": "stderr",
     "output_type": "stream",
     "text": [
      "C:\\Users\\LAP10\\AppData\\Local\\Programs\\Python\\Python38\\lib\\site-packages\\SciDataTool\\Functions\\Plot\\plot_2D.py:472: UserWarning: Matplotlib is currently using module://matplotlib_inline.backend_inline, which is a non-GUI backend, so cannot show the figure.\n",
      "  fig.show()\n"
     ]
    },
    {
     "data": {
      "image/png": "[encoded data removed]",
      "text/plain": [
       "<Figure size 576x288 with 1 Axes>"
      ]
     },
     "metadata": {
      "needs_background": "light"
     },
     "output_type": "display_data"
    }
   ],
   "source": [
    "%matplotlib inline\n",
    "from pyleecan.Classes.OutLoss import OutLoss\n",
    "from SciDataTool.Functions.Plot.plot_2D import plot_2D\n",
    "\n",
    "speed_array = np.linspace(10, 8000, 100)\n",
    "p = machine.get_pole_pair_number()\n",
    "outloss_list = list()\n",
    "OP = out.elec.OP.copy()\n",
    "for speed in speed_array:\n",
    "    OP.felec = speed / 60 * p\n",
    "    out_dict = {\"coeff_dict\": out.loss.coeff_dict}\n",
    "    outloss = OutLoss()\n",
    "    outloss.store(out_dict, lam=machine.stator, OP=OP, type_skin_effect=0, Tsta=120)\n",
    "    outloss_list.append(outloss)\n",
    "\n",
    "joule_list = [o.Pjoule for o in outloss_list]\n",
    "sc_list = [o.Pstator for o in outloss_list]\n",
    "rc_list = [o.Protor for o in outloss_list]\n",
    "prox_list = [o.Pprox for o in outloss_list]\n",
    "mag_list = [o.Pmagnet for o in outloss_list]\n",
    "ovl_list = [o.get_loss_overall() for o in outloss_list]\n",
    "\n",
    "plot_2D(\n",
    "[speed_array],\n",
    "[ovl_list, joule_list, sc_list, rc_list, prox_list, mag_list],\n",
    "xlabel=\"Speed [rpm]\",\n",
    "ylabel=\"Losses [W]\",\n",
    "legend_list=[\n",
    "    \"Overall\",\n",
    "    \"Winding Joule\",\n",
    "    \"Stator core\",\n",
    "    \"Rotor core\",\n",
    "    \"Winding proximity\",\n",
    "    \"Magnets\",\n",
    "])\n"
   ]
  }
 ],
 "metadata": {
  "interpreter": {
   "hash": "f00892c934405abc460ca24e3bb6083014154fea3bdeb89b449e121ed55ee4e6"
  },
  "kernelspec": {
   "display_name": "Python 3.8.10 64-bit",
   "language": "python",
   "name": "python3"
  },
  "language_info": {
   "codemirror_mode": {
    "name": "ipython",
    "version": 3
   },
   "file_extension": ".py",
   "mimetype": "text/x-python",
   "name": "python",
   "nbconvert_exporter": "python",
   "pygments_lexer": "ipython3",
   "version": "3.8.10"
  },
  "orig_nbformat": 4
 },
 "nbformat": 4,
 "nbformat_minor": 2
}
