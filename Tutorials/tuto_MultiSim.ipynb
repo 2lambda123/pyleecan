{
 "cells": [
  {
   "cell_type": "markdown",
   "metadata": {},
   "source": [
    "# Version information"
   ]
  },
  {
   "cell_type": "code",
   "execution_count": null,
   "metadata": {},
   "outputs": [],
   "source": [
    "from datetime import date\n",
    "print(\"Running date:\", date.today().strftime(\"%B %d, %Y\"))\n",
    "import pyleecan\n",
    "print(\"Pyleecan version:\" + pyleecan.__version__)\n",
    "import SciDataTool\n",
    "print(\"SciDataTool version:\" + SciDataTool.__version__)"
   ]
  },
  {
   "cell_type": "markdown",
   "metadata": {},
   "source": [
    "# Classes Glossary\n",
    "This tutorials mainly uses the following classes:\n",
    "\n",
    "- [VarParam](https://pyleecan.org/pyleecan.Classes.VarParam.html): Class to define a multisimulation by varying parameters\n",
    "- [VarLoadCurrent](https://pyleecan.org/pyleecan.Classes.VarLoadCurrent.html): Class to define a multisimulation by varying operating point\n",
    "- [DataKeeper](https://pyleecan.org/pyleecan.Classes.DataKeeper.html): Class to select some data to keep from a multi-simulation\n",
    "- [ParamExplorerInterval](https://pyleecan.org/pyleecan.Classes.ParamExplorerInterval.html): Class to define a design variable (for parameter sweep) with value on an interval\n",
    "- [ParamExplorerSet](https://pyleecan.org/pyleecan.Classes.ParamExplorerSet.html): Class to define a design variable (for parameter sweep) with value from a set\n",
    "- [Output](https://pyleecan.org/pyleecan.Classes.Output.html): Class to  gather all the outputs of all the modules\n",
    "- [XOutput](https://pyleecan.org/pyleecan.Classes.XOutput.html): Class to gathers all the outputs of all the modules for multiple simulations\n"
   ]
  },
  {
   "cell_type": "markdown",
   "metadata": {},
   "source": [
    "# How to define a Parameter Sweep of a Variable speed simulation?\n",
    "This tutorial explains how to use the objects VarParam and VarLoadCurrent to run Parameter Sweep of a Variable speed simulation by using the multi-simulation tools of pyleecan. This tutorial combines several advanced aspect of pyleecan, please read the following tutorials first:\n",
    "\n",
    "- \"[How to define a machine](https://pyleecan.org/tuto_Machine.html)\"\n",
    "- \"[How to define a simulation to call FEMM](https://pyleecan.org/tuto_Simulation_FEMM.html)\".\n",
    "- \"[How to set the Operating Point](https://pyleecan.org/tuto_Operating_point.html)\".\n",
    "- \"[How to run a multi-simulation](https://pyleecan.org/tuto_multisimulation.html)\".\n",
    "\n",
    "The multi-simulation tools of Pyleecan can be combined to create multi-simulation of multi-simulation. This tutorial will build step by step (or layer by layer) a parameter sweep to study the impact of the stator slot opening of the Toyota Prius on the variable speed torque. \n",
    "\n",
    "## Machine and Reference Simulation definition\n",
    "The first step is to define the reference simulation aka the original machine without any modifications from the VarParam (Parameter sweep object) nor the VarLoadCurrent (Variable speed object). This tutorial uses the usual machine Toyota Prius (2004) and simulation from the previous tutorials:"
   ]
  },
  {
   "cell_type": "code",
   "execution_count": null,
   "metadata": {
    "tags": []
   },
   "outputs": [],
   "source": [
    "%matplotlib notebook\n",
    "\n",
    "# Load the machine\n",
    "from pyleecan.Functions.load import load\n",
    "from pyleecan.definitions import DATA_DIR\n",
    "from os.path import join\n",
    "\n",
    "Toyota_Prius = load(join(DATA_DIR, \"Machine\", \"Toyota_Prius.json\"))\n",
    "Toyota_Prius.plot()"
   ]
  },
  {
   "cell_type": "code",
   "execution_count": null,
   "metadata": {
    "tags": []
   },
   "outputs": [],
   "source": [
    "from pyleecan.Classes.Simu1 import Simu1\n",
    "from pyleecan.Classes.MagFEMM import MagFEMM\n",
    "from pyleecan.Classes.InputCurrent import InputCurrent\n",
    "from numpy import sqrt, pi\n",
    "# Initialization of the Simulation\n",
    "simu_ref = Simu1(name=\"tuto_multi\", machine=Toyota_Prius)\n",
    "\n",
    "# Definition of the magnetic simulation (FEMM with symmetry and sliding band)\n",
    "simu_ref.mag = MagFEMM(\n",
    "    type_BH_stator=0,\n",
    "    type_BH_rotor=0,\n",
    "    is_periodicity_a=True,\n",
    "    is_periodicity_t=True,\n",
    "    nb_worker=4,\n",
    "    Kgeo_fineness=1,\n",
    ")\n",
    "# Run only Magnetic module\n",
    "simu_ref.elec = None\n",
    "simu_ref.force = None\n",
    "simu_ref.struct = None\n",
    "# Set reference simulation operating point\n",
    "simu_ref.input = InputCurrent()\n",
    "simu_ref.input.set_Id_Iq(I0=250/sqrt(2), Phi0=140*pi/180)\n",
    "simu_ref.input.Tem_av_ref = 353\n",
    "simu_ref.input.Nt_tot = 128 # Number of time step\n",
    "simu_ref.input.Na_tot = 2048 # Spatial discretization\n",
    "simu_ref.input.N0 = 2000 # Rotor speed [rpm]"
   ]
  },
  {
   "cell_type": "markdown",
   "metadata": {},
   "source": [
    "The reference simulation \"simu_ref\" is now fully defined. \n",
    "It can be run before the multi-simulation to make sure that everything is correctly defined. \n",
    "\n",
    "The multi-simulation will copy/update the reference simulation and its results. Thus, only the minimum input/output should be modified to save memory and computation time.\n",
    "\n",
    "The reference simulation outputs are used for comparison purpose. "
   ]
  },
  {
   "cell_type": "code",
   "execution_count": null,
   "metadata": {},
   "outputs": [],
   "source": [
    "output_ref = simu_ref.run()"
   ]
  },
  {
   "cell_type": "markdown",
   "metadata": {},
   "source": [
    "In this tutorial we will focus on the main magnetic outputs. For example, after the reference simulation:"
   ]
  },
  {
   "cell_type": "code",
   "execution_count": null,
   "metadata": {},
   "outputs": [],
   "source": [
    "# Flux\n",
    "output_ref.mag.B.plot_2D_Data(\"angle\",\"time[1]\",component_list=[\"radial\"])\n",
    "\n",
    "# Torque\n",
    "output_ref.mag.Tem.plot_2D_Data(\"time\")\n",
    "print(\"Main torque Output:\")\n",
    "print(\"Average Electromagnetic torque [N.m]:\" +str(output_ref.mag.Tem_av))\n",
    "print(\"Peak to Peak Torque ripple [N.m]:\" +str(output_ref.mag.Tem_rip_pp))\n",
    "print(\"Peak to Peak Torque ripple normalized according to average torque [-]:\" +str(output_ref.mag.Tem_rip_norm))\n",
    "print(\"Torque values (with symmetry):\\n\"+str(output_ref.mag.Tem.values))\n",
    "\n",
    "# Operating point\n",
    "print(\"\\nOperating Point:\")\n",
    "print(\"Rotor speed [rpm]:\"+str(output_ref.elec.N0))\n",
    "print(\"Id [Arms]:\"+str(output_ref.elec.Id_ref))\n",
    "print(\"Iq [Arms]:\"+str(output_ref.elec.Iq_ref))"
   ]
  },
  {
   "cell_type": "markdown",
   "metadata": {},
   "source": [
    "Although the operation point was defined with I0/Phi0, pyleecan store and use only Id/Iq.\n",
    "\n",
    "## First multi-simulation layer: Variable speed\n",
    "\n",
    "The next step is to define the variable speed simulation. This tutorial uses the results from: \n",
    "Z. Yang, M. Krishnamurthy and I. P. Brown, “Electromagnetic and vibrational characteristic of IPM over full torque-speed range,” 2013 International Electric Machines & Drives Conference, Chicago, IL, 2013, pp. 295-302, doi: 10.1109/IEMDC.2013.6556267.\n",
    "\n",
    "Each pyleecan simulation is assumed to be quasi-static and run on a single operating point (fixed speed). To run a simulation on several operating points two steps are needed: \n",
    "- First define a simulation that run correctly on a single operating point (like the one defined above), \n",
    "- then define a VarLoadCurrent object. \n",
    "\n",
    "The VarLoadCurrent object is defined with a matrix where each line corresponds to an operating point and the column are:\n",
    "- (N0, I0, Phi0) if type_OP_matrix==0\n",
    "- (N0, Id, Iq) if type_OP_matrix==1\n",
    "\n",
    "The following VarLoadCurrent object will run the previous simulation N_speed times by changing the value of Phi0. \n",
    "\n",
    "A fourth column can be added by setting is_torque=True. It enables to define the reference torque for the Operating Point. The reference torque is stored in output.elec.Tem_av_ref, the real computed torque is stored in output.mag.Tem_av."
   ]
  },
  {
   "cell_type": "markdown",
   "metadata": {},
   "source": [
    "Reference torque and current angle vector are:"
   ]
  },
  {
   "cell_type": "code",
   "execution_count": null,
   "metadata": {},
   "outputs": [],
   "source": [
    "from numpy import linspace, array, pi\n",
    "\n",
    "Tem_av_ref = array([79, 125, 160, 192, 237, 281, 319, 343, 353, 332, 266, 164, 22]) # Yang et al, 2013\n",
    "Phi0_ref = linspace(60 * pi / 180, 180 * pi / 180, Tem_av_ref.size)\n",
    "N_speed = Tem_av_ref.size"
   ]
  },
  {
   "cell_type": "code",
   "execution_count": null,
   "metadata": {
    "tags": []
   },
   "outputs": [],
   "source": [
    "from pyleecan.Classes.VarLoadCurrent import VarLoadCurrent\n",
    "from numpy import zeros, ones, linspace, array, sqrt, arange\n",
    "\n",
    "varload = VarLoadCurrent(is_torque=True)\n",
    "varload.type_OP_matrix = 0 # Matrix N0, I0, Phi0\n",
    "\n",
    "# Creating the Operating point matrix\n",
    "OP_matrix = zeros((N_speed,4))\n",
    "\n",
    "# Set N0 = 2000 [rpm] for all simulation\n",
    "OP_matrix[:,0] = 2000 * ones((N_speed))\n",
    "\n",
    "# Set I0 = 250 / sqrt(2) [A] (RMS) for all simulation\n",
    "OP_matrix[:,1] = 250/sqrt(2) * ones((N_speed)) \n",
    "\n",
    "# Set Phi0 from 60° to 180°\n",
    "OP_matrix[:,2] = Phi0_ref\n",
    "\n",
    "# Set reference torque from Yang et al, 2013\n",
    "OP_matrix[:,3] = Tem_av_ref\n",
    "\n",
    "varload.OP_matrix = OP_matrix\n",
    "print(OP_matrix)\n",
    "\n",
    "# All the simulation use the same machine\n",
    "# No need to draw the machine for all OP\n",
    "varload.is_reuse_femm_file=True  "
   ]
  },
  {
   "cell_type": "markdown",
   "metadata": {},
   "source": [
    "This first layer will behave as follow:\n",
    "- First the reference simulation will be run to get the reference output,\n",
    "- then the reference simulation will be duplicated N_speed times with the value of InputCurrent updated according to the OP matrix. \n",
    "- is_reuse_femm will update the N_speed simulations to reuse the FEMM file drawn in the reference simulation to speed-up the computations.\n",
    "- Each simulation of the list will be run separately and the results gathered in an XOutput object.\n",
    "\n",
    "Pyleecan can detect that a simulation from the list matches the reference one and skip its computation to avoid computing twice the same thing. When defining a multi-simulation of multi-simulation, this optimization is essential since pyleecan will run \"1 + (N_speed-1)\" simulations instead of \"1 + N_speed\" for each combinaison of the design parameters. \n",
    "\n",
    "To further understand pyleecan multi-simulation tools, this tutorial uses the option \"is_keep_all_output\" that keeps all the output of all the simulations. This option enables to access the plot for all the Operating Points but can take significant memory space depending on the simulation."
   ]
  },
  {
   "cell_type": "code",
   "execution_count": null,
   "metadata": {
    "tags": []
   },
   "outputs": [],
   "source": [
    "simu_vop = simu_ref.copy()\n",
    "simu_vop.var_simu = varload\n",
    "simu_vop.var_simu.is_keep_all_output = True\n",
    "\n",
    "# Speed-up computation (set reference simu input as first OP), here reference is already the 9th simulation\n",
    "# simu_vop.input.set_OP_from_array(varload.OP_matrix, varload.type_OP_matrix)"
   ]
  },
  {
   "cell_type": "code",
   "execution_count": null,
   "metadata": {},
   "outputs": [],
   "source": [
    "Xout_vop = simu_vop.run()"
   ]
  },
  {
   "cell_type": "markdown",
   "metadata": {},
   "source": [
    "The log of the simulation enables to understand step by step the status of the computation. As expected, the reference simulation is computed first. Then each of the 13 simulations is run starting with a message indicating the simulation operating point:\n",
    "\n",
    "**Running simulation 3/13 with N0=2000 [rpm], Id=30.7 [Arms], Iq=174.1 [Arms]**\n",
    "\n",
    "And ending with the Datakeepers result for this simulation:\n",
    "\n",
    "**Variable Load Results: N0=2000 [rpm], Id=30.7 [Arms], Iq=174.1 [Arms], I0=176.8 [A], Phi0=1.396 [], Tem_av_ref=160 [N.m], Tem_av=170.3 [N.m], Tem_rip_pp=53.12 [N.m], Tem_rip_norm=0.312 [-]**\n",
    "\n",
    "As expected the computation for the 9th simulation was skipped, the operating point and Datakeepers are still displayed as a reminder.\n",
    "\n",
    "Pyleecan will automatically defines several Datakeeper to extract the main outputs from each simulation. These values are all gathered in the xoutput_dict:"
   ]
  },
  {
   "cell_type": "code",
   "execution_count": null,
   "metadata": {
    "tags": []
   },
   "outputs": [],
   "source": [
    "print(\"Values available in XOutput:\")\n",
    "print(Xout_vop.xoutput_dict.keys())\n",
    "\n",
    "print(\"\\nI0 for each simulation:\")\n",
    "print(Xout_vop[\"I0\"].result)\n",
    "print(\"\\nPhi0 for each simulation:\")\n",
    "print(Xout_vop[\"Phi0\"].result)\n",
    "print(\"\\nComputed Average Torque for each simulation:\")\n",
    "print(Xout_vop[\"Tem_av\"].result)\n",
    "print(\"\\nComputed Average Torque of the reference simulation:\")\n",
    "print(Xout_vop[\"Tem_av\"].result_ref)"
   ]
  },
  {
   "cell_type": "markdown",
   "metadata": {},
   "source": [
    "Other Datakeeper can be added in simu.var_simu.datakeeper_list to extract other meaningful (or user-defined) data.\n",
    "\n",
    "As the option is_keep_all_output was activated, one can also access all the simulation results in the \"output_list\":"
   ]
  },
  {
   "cell_type": "code",
   "execution_count": null,
   "metadata": {},
   "outputs": [],
   "source": [
    "# Flux of the 3rd simulation\n",
    "print(\"Id: \"+str(Xout_vop.output_list[2].elec.Id_ref)+\" , Iq: \"+str(Xout_vop.output_list[2].elec.Iq_ref)+\" , Tem_av_ref: \"+str(Xout_vop.output_list[2].elec.Tem_av_ref))\n",
    "Xout_vop.output_list[2].mag.B.plot_2D_Data(\"angle\")\n",
    "\n",
    "print(\"Index of the reference simulation in the list: \"+str(Xout_vop.xoutput_ref_index))\n",
    "print(\"Id: \"+str(Xout_vop.output_list[8].elec.Id_ref)+\" , Iq: \"+str(Xout_vop.output_list[8].elec.Iq_ref)+\" , Tem_av_ref: \"+str(Xout_vop.output_list[8].elec.Tem_av_ref))\n",
    "Xout_vop.output_list[8].mag.Tem.plot_2D_Data(\"time\")"
   ]
  },
  {
   "cell_type": "markdown",
   "metadata": {
    "tags": []
   },
   "source": [
    "Any parameter in the xOutput_dict can be plot as a function of any other"
   ]
  },
  {
   "cell_type": "code",
   "execution_count": null,
   "metadata": {},
   "outputs": [],
   "source": [
    "fig = Xout_vop.plot_multi(\"Phi0\", \"Tem_av\")\n",
    "fig = Xout_vop.plot_multi(\"Id\", \"Iq\")"
   ]
  },
  {
   "cell_type": "markdown",
   "metadata": {},
   "source": [
    "## Second multi-simulation layer only: Parameter Sweep\n",
    "\n",
    "In pyleecan a Parameter Sweep is defined with a VarParam object. The design variables are set with ParamExplorer objects and the same Datakeeper as for a VarLoadCurrent (Id, Id, Tem_av...) will be automatically defined as output. Other Datakeepers can be defined in simu.var_simu.datakeeper_list.\n",
    "\n",
    "VarParam and VarLoadCurrent inherit from the same class VarSimu. This is why most of the parameter of VarLoadCurrent are also available in VarParam and that both classes share the same behaviour. The main difference is how the simulation list is defined. Technically a VarLoadCurrent could be defined with a VarParam using ParamExplorer on Id / Iq / Tem_av_ref.\n",
    "\n",
    "For this tutorial, only one ParamExplorer is defined: a linspace on the stator slot opening. The is_reuse_femm_file is desactivated as each simulation will have a different machine and is_keep_all_output is activated to show the full content of the xoutput object."
   ]
  },
  {
   "cell_type": "code",
   "execution_count": null,
   "metadata": {},
   "outputs": [],
   "source": [
    "from pyleecan.Classes.VarParam import VarParam\n",
    "from pyleecan.Classes.ParamExplorerInterval import ParamExplorerInterval\n",
    "\n",
    "simu_sweep = simu_ref.copy()\n",
    "\n",
    "# Multi-simulation to change machine parameters\n",
    "sweep = VarParam(\n",
    "    stop_if_error=True,\n",
    "    is_reuse_femm_file=False,\n",
    "    is_keep_all_output=True,\n",
    ")\n",
    "simu_sweep.var_simu = sweep\n",
    "N_sweep = 8\n",
    "\n",
    "# List of ParamExplorer to define multisimulation input values\n",
    "simu_sweep.var_simu.paramexplorer_list = [\n",
    "    ParamExplorerInterval(\n",
    "        name=\"Stator slot opening\",\n",
    "        symbol=\"W0s\",\n",
    "        unit=\"m\",\n",
    "        setter=\"simu.machine.stator.slot.W0\",\n",
    "        getter=\"simu.machine.stator.slot.W0\",\n",
    "        min_value=0.1 * Toyota_Prius.stator.slot.W0,\n",
    "        max_value=1.4 * Toyota_Prius.stator.slot.W0,\n",
    "        N=N_sweep,\n",
    "    )\n",
    "]\n",
    "\n",
    "print(\"Value used in the Parameter sweep: \"+str(simu_sweep.var_simu.paramexplorer_list[0].get_value()))\n",
    "print(\"Reference machine W0: \"+str(Toyota_Prius.stator.slot.W0))"
   ]
  },
  {
   "cell_type": "code",
   "execution_count": null,
   "metadata": {},
   "outputs": [],
   "source": [
    "Xout_sweep = simu_sweep.run()"
   ]
  },
  {
   "cell_type": "markdown",
   "metadata": {},
   "source": [
    "The log of the simulation enables to understand step by step the status of the computation. As expected, the reference simulation is computed first (which is still on a single operating point). Then, each of the 8 simulations (ref W0s in not in the value list) is run on the same operating point with a different value for the stator slot opening displayed as:\n",
    "\n",
    "**Running simulation 7/8 with W0s=0.0020127143**\n",
    "\n",
    "And ending with the datakeepers result for this simulation:\n",
    "\n",
    "**Parameter Sweep Results: N0=2000 [rpm], Id=-135.4 [Arms], Iq=113.6 [Arms], Tem_av=353.8 [N.m], Tem_rip_pp=82.94 [N.m], Tem_rip_norm=0.2344 [-]**\n",
    "    \n",
    "When is_keep_all_output is True, the reference output is either stored in the output_list if one of the N simulation matches the reference one or in xoutput_ref otherwise"
   ]
  },
  {
   "cell_type": "code",
   "execution_count": null,
   "metadata": {},
   "outputs": [],
   "source": [
    "print(\"Xout_sweep.xoutput_ref:\" +str(type(Xout_sweep.xoutput_ref)))\n",
    "print(\"Xout_sweep.xoutput_ref_index:\" +str(Xout_sweep.xoutput_ref_index))\n",
    "print(\"\\nXout_vop.xoutput_ref:\" +str(Xout_vop.xoutput_ref))\n",
    "print(\"Xout_vop.xoutput_ref_index:\" +str(Xout_vop.xoutput_ref_index))\n",
    "\n",
    "# A function enables to acces the reference output in all the cases\n",
    "xoutput_ref = Xout_sweep.get_xoutput_ref()"
   ]
  },
  {
   "cell_type": "markdown",
   "metadata": {},
   "source": [
    "output_list, xoutput_dict and the respective plot commands work the same way as for VarLoadCurrent. The ParamExplorer are also available for plot_multi:"
   ]
  },
  {
   "cell_type": "code",
   "execution_count": null,
   "metadata": {},
   "outputs": [],
   "source": [
    "Xout_sweep.plot_multi(\"W0s\",\"Tem_av\")"
   ]
  },
  {
   "cell_type": "markdown",
   "metadata": {},
   "source": [
    "As a reminder, each output contains the simulation that computed it. Using Parameter sweep with is_keep_all_output enables to access each generated simulation and machine in the output_list. The following code will extract the machine with the highest torque. To get the corresponding W0s, the ParamExplorerInterval was converted to a ParamExplorerSet to store the actual values used during the simulation. "
   ]
  },
  {
   "cell_type": "code",
   "execution_count": null,
   "metadata": {},
   "outputs": [],
   "source": [
    "from numpy import argmax, max as np_max\n",
    "# Find the simulation with the most torque\n",
    "Tmax = np_max(Xout_sweep.xoutput_dict[\"Tem_av\"].result)\n",
    "Tmax_id = int(argmax(Xout_sweep.xoutput_dict[\"Tem_av\"].result))\n",
    "print(\"Max Torque is \"+str(Tmax)+\" [N.m], for simulation index \"+str(Tmax_id))\n",
    "\n",
    "# Find the corresponding W0s\n",
    "print(type(Xout_sweep.paramexplorer_list[0]))\n",
    "W0s_val = Xout_sweep.paramexplorer_list[0].get_value()\n",
    "print(W0s_val)\n",
    "\n",
    "print(\"Corresponding W0s is \" + str(W0s_val[Tmax_id]))\n",
    "\n",
    "# To save the simulation or machine for further modifications/computations\n",
    "# Xout_sweep.output_list[Tmax_id].simu.save(path/to/json/file)\n",
    "# Xout_sweep.output_list[Tmax_id].simu.machine.save(path/to/json/file)"
   ]
  },
  {
   "cell_type": "markdown",
   "metadata": {},
   "source": [
    "It is also possible to access the machine plot command to check the modifications:"
   ]
  },
  {
   "cell_type": "code",
   "execution_count": null,
   "metadata": {},
   "outputs": [],
   "source": [
    "Xout_sweep.output_list[0].simu.machine.stator.slot.plot()\n",
    "Xout_sweep.xoutput_ref.simu.machine.stator.slot.plot()\n",
    "Xout_sweep.output_list[-1].simu.machine.stator.slot.plot()"
   ]
  },
  {
   "cell_type": "markdown",
   "metadata": {},
   "source": [
    "## Both multi-simulation layers: Parameter-sweep of variable speed simulation"
   ]
  },
  {
   "cell_type": "markdown",
   "metadata": {},
   "source": [
    "For now, we have set the var_simu property of Simulation with a VarSimu object to define a multi-simulation. To define a multi-simulation of multi-simulation, we can use the var_simu property of VarSimu which also take a VarSimu object. This definition principal has no limit in the number of \"simulation layer\" but no usage should require more than two layers."
   ]
  },
  {
   "cell_type": "code",
   "execution_count": null,
   "metadata": {},
   "outputs": [],
   "source": [
    "multi_simu = simu_ref.copy()\n",
    "multi_simu.var_simu = sweep.copy()\n",
    "multi_simu.var_simu.var_simu = varload.copy()"
   ]
  },
  {
   "cell_type": "markdown",
   "metadata": {},
   "source": [
    "The workflow of this simulation is the following:\n",
    "- Pyleecan checks simu.var_simu => VarParam.run\n",
    "- VarParam defines its reference simulation with simu.var_simu = simu.var_simu.var_simu\n",
    "- VarParam run its referencece simulation, check simu.var_simu => VarLoadCurrent.run\n",
    "- The reference simulation of VarParam is a VarLoadCurrent simulation that defines its own reference simulation with simu.var_simu = simu.var_simu.var_simu (which is None)\n",
    "- When running the reference simulation of VarLoadCurrent, simu.var_simu is None so we run the models (this simulation is then exaclty simu_ref defined previously)\n",
    "- Pyleecan run the N_speed simulations of the VarLoadCurrent\n",
    "- Pyleecan generates the N_sweep simulations of the VarParam which are VarLoadCurrent and run them all\n",
    "- For each VarLoadCurrent simulation, a reference simulation is defined then the N_speed simulations\n",
    "\n",
    "So this simulation will run (1+N_sweep) * (1+N_speed) simulations. This is why it is important to make sure that the reference simulation is part of the N simulations to skip one computation on both sides.\n",
    "\n",
    "Each simulation layer has its own properties which enables to do the following:"
   ]
  },
  {
   "cell_type": "code",
   "execution_count": null,
   "metadata": {},
   "outputs": [],
   "source": [
    "# VarParam => All machine are different\n",
    "multi_simu.var_simu.is_reuse_femm_file = False\n",
    "# VarLoadCurrent => All machines are the same\n",
    "multi_simu.var_simu.var_simu.is_reuse_femm_file = True"
   ]
  },
  {
   "cell_type": "markdown",
   "metadata": {},
   "source": [
    "To explain the output structure, this tutorial will again use the is_keep_all_output option. To speed up the computation and reduce the memory usage the number of simulation is reduced:"
   ]
  },
  {
   "cell_type": "code",
   "execution_count": null,
   "metadata": {},
   "outputs": [],
   "source": [
    "# VarParam\n",
    "multi_simu.var_simu.is_keep_all_output = True\n",
    "multi_simu.var_simu.datakeeper_list = list()  # reset datakeeper list\n",
    "multi_simu.var_simu.paramexplorer_list[0].N = 4\n",
    "multi_simu.var_simu.paramexplorer_list[0].max_value = Toyota_Prius.stator.slot.W0  # Ref is in the N simu\n",
    "# VarLoadCurrent\n",
    "multi_simu.var_simu.var_simu.is_keep_all_output = True\n",
    "multi_simu.var_simu.var_simu.datakeeper_list = list()  # reset datakeeper list\n",
    "multi_simu.var_simu.var_simu.OP_matrix = OP_matrix[:-4, :]\n",
    "print(\"OP matrix\")\n",
    "print(multi_simu.var_simu.var_simu.OP_matrix)\n",
    "# Reference simulation\n",
    "multi_simu.input.Nt_tot = 64"
   ]
  },
  {
   "cell_type": "markdown",
   "metadata": {},
   "source": [
    "For a better understanding of the logs, the VarLoadCurrent simulation log can be filtered with:"
   ]
  },
  {
   "cell_type": "code",
   "execution_count": null,
   "metadata": {},
   "outputs": [],
   "source": [
    "multi_simu.layer_log_warn = 2"
   ]
  },
  {
   "cell_type": "code",
   "execution_count": null,
   "metadata": {},
   "outputs": [],
   "source": [
    "Xout_multi = multi_simu.run()"
   ]
  },
  {
   "cell_type": "markdown",
   "metadata": {},
   "source": [
    "Again, the logs enable to follow step by step each layer of the simulation with their corresponding input and output.\n",
    "The datakeeper of the VarLoadCurrent are the same as previously:\n",
    "**Variable Load Results: N0=2000 [rpm], Id=-135.4 [Arms], Iq=113.6 [Arms], I0=176.8 [A], Phi0=2.443 [], Tem_av_ref=353 [N.m], Tem_av=353.3 [N.m], Tem_rip_pp=73.53 [N.m], Tem_rip_norm=0.2081 [-]**\n",
    "\n",
    "But the VarParam Datakeeper are now:\n",
    "\n",
    "**Parameter Sweep Results: Max_Tem_av=345 [N.m], Max_Tem_rip_pp=90.72 [N.m], Max_Tem_rip_norm=0.3105 [-]**\n",
    "\n",
    "The reason is that now the parameter sweep is running on a multi-simulation. Thus, Tem_av is now an array as a function of the operating point. So instead of storing Tem_av, the datakeeper now store the maximum of the Tem_av DataKeeper of the VarLoadCurrent simulation (\"max(output.xoutput_dict['Tem_av'].result)\")\n",
    "\n",
    "The xoutput_dict contains only the information related to the VarParm:"
   ]
  },
  {
   "cell_type": "code",
   "execution_count": null,
   "metadata": {},
   "outputs": [],
   "source": [
    "print(\"Values available in XOutput:\")\n",
    "print(Xout_multi.xoutput_dict.keys())\n",
    "\n",
    "print(\"\\nMaximum Torque for each Design:\")\n",
    "print(Xout_multi.xoutput_dict[\"Max_Tem_av\"].result)\n",
    "print(\"W0s for each Design:\")\n",
    "print(Xout_multi.paramexplorer_list[0].get_value())\n",
    "\n",
    "Xout_multi.plot_multi(\"W0s\", \"Max_Tem_av\")"
   ]
  },
  {
   "cell_type": "code",
   "execution_count": null,
   "metadata": {},
   "outputs": [],
   "source": [
    "Xout_multi.xoutput_dict[\"Max_Tem_av\"].result"
   ]
  },
  {
   "cell_type": "markdown",
   "metadata": {},
   "source": [
    "As the is_keep_all_output option was activated, output_list is available but now it contains the xouput resulting from the VarLoadCurrent computation. Then all the VarLoadCurrent DataKeeper are available."
   ]
  },
  {
   "cell_type": "code",
   "execution_count": null,
   "metadata": {},
   "outputs": [],
   "source": [
    "print(type(Xout_multi.output_list[0]))\n",
    "print(type(Xout_sweep.output_list[0]))\n",
    "\n",
    "print(\"\\nDatakeeper of VarLoadCurrent simulation of Design 0\")\n",
    "print(Xout_multi.output_list[0].xoutput_dict.keys())\n",
    "print(\"Average torque for each operating point of Design 0\")\n",
    "print(Xout_multi.output_list[0].xoutput_dict[\"Tem_av\"].result)\n",
    "\n",
    "# To save the VarLoadCurrent simulation or machine for further modifications/computations\n",
    "# Xout_multi.output_list[0].simu.save(path/to/json/file)\n",
    "# Xout_multi.output_list[0].simu.machine.save(path/to/json/file)"
   ]
  },
  {
   "cell_type": "markdown",
   "metadata": {},
   "source": [
    "As the VarLoadCurrent also have the is_keep_all_output option activated, the output of each simulation is available and  it is possible to call the corresponding plot command"
   ]
  },
  {
   "cell_type": "code",
   "execution_count": null,
   "metadata": {},
   "outputs": [],
   "source": [
    "Xout_multi.output_list[-1].plot_multi(\"Phi0\", \"Tem_av\")\n",
    "# Torque at the first Operating point for the Last design\n",
    "Xout_multi.output_list[-1].output_list[0].mag.Tem.plot_2D_Data(\"time\")\n",
    "# Flux of the 4th Operating point for the Last design\n",
    "Xout_multi.output_list[-1].output_list[3].mag.B.plot_2D_Data(\"angle\")\n"
   ]
  }
 ],
 "metadata": {
  "kernelspec": {
   "display_name": "Python 3",
   "language": "python",
   "name": "python3"
  },
  "language_info": {
   "codemirror_mode": {
    "name": "ipython",
    "version": 3
   },
   "file_extension": ".py",
   "mimetype": "text/x-python",
   "name": "python",
   "nbconvert_exporter": "python",
   "pygments_lexer": "ipython3",
   "version": "3.8.6"
  }
 },
 "nbformat": 4,
 "nbformat_minor": 2
}
