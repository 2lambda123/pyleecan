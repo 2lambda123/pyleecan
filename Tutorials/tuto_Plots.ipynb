{
 "cells": [
  {
   "cell_type": "markdown",
   "metadata": {},
   "source": [
    "# Version information"
   ]
  },
  {
   "cell_type": "code",
   "execution_count": null,
   "metadata": {},
   "outputs": [],
   "source": [
    "from datetime import date\n",
    "print(\"Running date:\", date.today().strftime(\"%B %d, %Y\"))\n",
    "import pyleecan\n",
    "print(\"Pyleecan version:\" + pyleecan.__version__)\n",
    "import SciDataTool\n",
    "print(\"SciDataTool version:\" + SciDataTool.__version__)"
   ]
  },
  {
   "cell_type": "markdown",
   "metadata": {},
   "source": [
    "# How to plot results\n",
    "\n",
    "Pyleecan has generic built-in plot methods which allow to easily plot:\n",
    "\n",
    "- **simulated** or **experimental** fields (unit conversions supported)\n",
    "\n",
    "- **slices** (normalizations available)\n",
    "\n",
    "- **Fourier Transforms**\n",
    "\n",
    "but also to **compare** on the same graph a list of fields.\n",
    "\n",
    "This flexibility is provided by the [SciDataTool module](https://github.com/Eomys/SciDataTool), which has been created to **ease the handling of scientific data**, and considerately simplify plot commands. It unifies the extraction of relevant data (e.g. slices), whether they are stored in the time/space or in the frequency domain. The call to Fourier Transform functions is **transparent**, although it still can be parameterized.\n",
    "\n",
    "This tutorial explains how to use Pyleecan's **plot commands**. It is available on [GitHub](https://github.com/Eomys/pyleecan/tree/master/Tutorials/tuto_Plots.ipynb). For more details on the `SciDataTool` package, please refer to the specific tutorials:\n",
    "\n",
    "- [How to create Data objects](https://nbviewer.jupyter.org/github/Eomys/SciDataTool/blob/master/Tutorials/tuto1_Create.ipynb)\n",
    "\n",
    "- [How to extract slices](https://nbviewer.jupyter.org/github/Eomys/SciDataTool/blob/master/Tutorials/tuto2_Slices.ipynb)\n",
    "\n",
    "- [How to plot data](https://nbviewer.jupyter.org/github/Eomys/SciDataTool/blob/master/Tutorials/tuto3_Plot.ipynb)\n",
    "\n",
    "To demonstrate the capabilities and the use of the SciDataTool objects, two simulations are launched with FEMM: with imposed currents and in open-circuit. The simulations use periodicity and parallelization to reduce execution time."
   ]
  },
  {
   "cell_type": "code",
   "execution_count": null,
   "metadata": {
    "tags": []
   },
   "outputs": [],
   "source": [
    "# Import Pyleecan modules\n",
    "from numpy import exp, sqrt, pi\n",
    "from os.path import join\n",
    "from pyleecan.Classes.Simu1 import Simu1\n",
    "from pyleecan.Classes.InputCurrent import InputCurrent\n",
    "from pyleecan.Classes.MagFEMM import MagFEMM\n",
    "from pyleecan.Classes.ForceMT import ForceMT\n",
    "from pyleecan.Classes.Output import Output\n",
    "from pyleecan.Functions.load import load\n",
    "from pyleecan.definitions import DATA_DIR\n",
    "\n",
    "# Load the machine\n",
    "Toyota_Prius = load(join(DATA_DIR, \"Machine\", \"Toyota_Prius.json\"))\n",
    "\n",
    "# Simulation initialization\n",
    "simu = Simu1(name=\"FEMM_periodicity\", machine=Toyota_Prius)\n",
    "\n",
    "# Definition of the enforced output of the electrical module\n",
    "simu.input = InputCurrent(\n",
    "    Na_tot=252 * 8,\n",
    "    Nt_tot=50 * 8,\n",
    "    N0=1000,\n",
    ")\n",
    "# Set Id/Iq according to I0/Phi0\n",
    "simu.input.set_Id_Iq(I0=250 / sqrt(2), Phi0=140*pi/180)\n",
    "\n",
    "# Definition of the magnetic simulation: with periodicity\n",
    "simu.mag = MagFEMM(is_periodicity_a=True, is_periodicity_t=True, nb_worker=4)\n",
    "simu.force = ForceMT(is_periodicity_a=True, is_periodicity_t=True)\n",
    "\n",
    "# Definition of the open-circuit simulation\n",
    "simu2 = simu.copy()\n",
    "simu2.input.Id_ref = 0\n",
    "simu2.input.Iq_ref = 0\n",
    "\n",
    "# Run simulations\n",
    "out = simu.run()\n",
    "out2 = simu2.run()"
   ]
  },
  {
   "cell_type": "markdown",
   "metadata": {},
   "source": [
    "The following example demonstrates the syntax to **quickly plot** the torque and airgap flux obtained at the end of the simulation:"
   ]
  },
  {
   "cell_type": "code",
   "execution_count": null,
   "metadata": {
    "scrolled": true
   },
   "outputs": [],
   "source": [
    "%matplotlib notebook\n",
    "#------------------------------------------------------\n",
    "# Plot the torque as a function of time\n",
    "out.mag.Tem.plot_2D_Data(\"time\")\n",
    "out.mag.B.plot_2D_Data(\"angle\")\n",
    "#------------------------------------------------------"
   ]
  },
  {
   "cell_type": "markdown",
   "metadata": {},
   "source": [
    "The plot command requires the **axis** of the field along which to plot (\"*angle*\" for instance). Titles and legends are automatically generated. The commands work with **any field computed in Pyleecan** (and stored in a SciDataTool object).\n",
    "\n",
    "The syntax for the axes is specific to `SciDataTool` objects, and will be detailed in this tutorial.\n",
    "\n",
    "There are two main plot commands in `SciDataTool`, which can apply to any **DataTime**, **DataFreq** or **VectorField** object from `SciDataTool`:\n",
    "\n",
    "- `plot_2D_Data`: field as a function of one dimension (time, angle, freqs, wavenumber, phase\n",
    "- `plot_3D_Data`: field as a function of two dimensions\n",
    "\n",
    "`SciDataTool` also provides generic plot functions, which can be useful to easily format other plots, or plots of data which is not stored in a `SciDataTool` object:\n",
    "\n",
    "- `plot_2D`: plot as a function of one dimension (curve, bargraph, barchart, quiver, curve_point, point, barStackResultant)\n",
    "- `plot_3D`: plot as a function of two dimensions (stem, surf, pcolor, scatter)\n",
    "- `plot_4D`: plot as a function of three dimensions (scatter)\n",
    "\n",
    "To use one of these plot functions, simply import it such as:"
   ]
  },
  {
   "cell_type": "code",
   "execution_count": null,
   "metadata": {},
   "outputs": [],
   "source": [
    "from SciDataTool.Functions.Plot.plot_2D import plot_2D"
   ]
  },
  {
   "cell_type": "markdown",
   "metadata": {},
   "source": [
    "We invite you to visit [SciDataTool repository on GitHub](https://github.com/Eomys/SciDataTool/tree/master/SciDataTool/Functions/Plot) for more details.\n",
    "\n",
    "Fonts and colors can be automatically defined from the config_dict, using `dict_2D` or `dict_3D`:"
   ]
  },
  {
   "cell_type": "code",
   "execution_count": null,
   "metadata": {},
   "outputs": [],
   "source": [
    "from pyleecan.Functions.Plot import dict_2D, dict_3D"
   ]
  },
  {
   "cell_type": "markdown",
   "metadata": {},
   "source": [
    "## 1. How to plot only one period/antiperiod\n",
    "To plot only one period or anti-period:"
   ]
  },
  {
   "cell_type": "code",
   "execution_count": null,
   "metadata": {},
   "outputs": [],
   "source": [
    "#---------------------------------------------------------------\n",
    "# Plot the torque along the smallest period of time\n",
    "out.mag.Tem.plot_2D_Data(\"time[smallestperiod]\", **dict_2D)\n",
    "#---------------------------------------------------------------"
   ]
  },
  {
   "cell_type": "markdown",
   "metadata": {},
   "source": [
    "## 2. How to plot VectorField objects\n",
    "For `VectorField` objects, such as `mag.B` or `force.AGSF`, a plot for each component will be created:"
   ]
  },
  {
   "cell_type": "code",
   "execution_count": null,
   "metadata": {},
   "outputs": [],
   "source": [
    "#---------------------------------------------------------------\n",
    "# Plot all components of flux density\n",
    "out.mag.B.plot_2D_Data(\"time\", **dict_2D)\n",
    "#---------------------------------------------------------------"
   ]
  },
  {
   "cell_type": "markdown",
   "metadata": {},
   "source": [
    "To plot only one or several specific components, one can use the `component_list` parameter:"
   ]
  },
  {
   "cell_type": "code",
   "execution_count": null,
   "metadata": {},
   "outputs": [],
   "source": [
    "#---------------------------------------------------------------\n",
    "# Plot only radial flux density\n",
    "out.mag.B.plot_2D_Data(\"time\", component_list=[\"radial\"], **dict_2D)\n",
    "#---------------------------------------------------------------"
   ]
  },
  {
   "cell_type": "markdown",
   "metadata": {},
   "source": [
    "## 3. How to plot slices\n",
    "\n",
    "In the previous plots, the flux density was sliced at `angle=0` (slice by default), but we could want to slice at another angle:"
   ]
  },
  {
   "cell_type": "code",
   "execution_count": null,
   "metadata": {},
   "outputs": [],
   "source": [
    "#---------------------------------------------------------------\n",
    "# Plot for angle = 90°\n",
    "out.mag.B.plot_2D_Data(\"time\", \"angle=90{°}\", component_list=[\"radial\"], **dict_2D)\n",
    "#---------------------------------------------------------------"
   ]
  },
  {
   "cell_type": "markdown",
   "metadata": {},
   "source": [
    "We can even superimpose several slices:"
   ]
  },
  {
   "cell_type": "code",
   "execution_count": null,
   "metadata": {},
   "outputs": [],
   "source": [
    "#---------------------------------------------------------------\n",
    "# Plot for 3 slices of time\n",
    "out.mag.B.plot_2D_Data(\"angle\", \"time[0,20,40]\", component_list=[\"radial\"], **dict_2D)\n",
    "#---------------------------------------------------------------"
   ]
  },
  {
   "cell_type": "markdown",
   "metadata": {},
   "source": [
    "## 4. How to plot spectra\n",
    "\n",
    "One of the main interest of `SciDataTool` is to hide the complexity of Fourier Transforms. From a field defined in the time/space domain, you can directly plot its spectrum (note that intervals can be easily specified):"
   ]
  },
  {
   "cell_type": "code",
   "execution_count": null,
   "metadata": {},
   "outputs": [],
   "source": [
    "#---------------------------------------------------------------\n",
    "# Plot time fft\n",
    "out.mag.B.plot_2D_Data(\"freqs\", component_list=[\"radial\"], **dict_2D)\n",
    "# Plot space fft\n",
    "out.mag.B.plot_2D_Data(\"wavenumber=[0,200]\", component_list=[\"radial\"], **dict_2D)\n",
    "#---------------------------------------------------------------"
   ]
  },
  {
   "cell_type": "markdown",
   "metadata": {},
   "source": [
    "The main frequencies/wavenumbers are automatically labelled. This can be deactivated using `is_auto_ticks=False`:"
   ]
  },
  {
   "cell_type": "code",
   "execution_count": null,
   "metadata": {},
   "outputs": [],
   "source": [
    "##---------------------------------------------------------------\n",
    "# Deactivate automatic ticks\n",
    "out.mag.B.plot_2D_Data(\"wavenumber=[0,200]\", is_auto_ticks=False, component_list=[\"radial\"], **dict_2D)\n",
    "#---------------------------------------------------------------"
   ]
  },
  {
   "cell_type": "markdown",
   "metadata": {},
   "source": [
    "## 5. How to convert or normalize data\n",
    "\n",
    "Another interesting feature of `pyleecan` is the conversion feature: there are built-in methods to convert units, and normalize fields and axes.\n",
    "\n",
    "For example, we can plot the fft in electrical orders:"
   ]
  },
  {
   "cell_type": "code",
   "execution_count": null,
   "metadata": {},
   "outputs": [],
   "source": [
    "#---------------------------------------------------------------\n",
    "# Normalize frequency axis\n",
    "out.mag.B.plot_2D_Data(\"freqs->elec_order\", component_list=[\"radial\"], **dict_2D)\n",
    "#---------------------------------------------------------------"
   ]
  },
  {
   "cell_type": "markdown",
   "metadata": {},
   "source": [
    "In the following example, we will convert the stator winding flux from Webers into Maxwells ($1$ Wb = $10^8$ Mx):"
   ]
  },
  {
   "cell_type": "code",
   "execution_count": null,
   "metadata": {},
   "outputs": [],
   "source": [
    "#---------------------------------------------------------------\n",
    "# Original plot\n",
    "out.mag.Phi_wind_stator.plot_2D_Data(\"time\", \"phase\", **dict_2D)\n",
    "#---------------------------------------------------------------"
   ]
  },
  {
   "cell_type": "code",
   "execution_count": null,
   "metadata": {},
   "outputs": [],
   "source": [
    "#---------------------------------------------------------------\n",
    "# Conversion into Maxwells\n",
    "out.mag.Phi_wind_stator.plot_2D_Data(\"time\", \"phase\", unit=\"Mx\", **dict_2D)\n",
    "#---------------------------------------------------------------"
   ]
  },
  {
   "cell_type": "markdown",
   "metadata": {},
   "source": [
    "In this last example, we will convert the angle axis into degrees and for the air-gap flux density from Teslas into Gauss ($1$ T= $10^4$ G)"
   ]
  },
  {
   "cell_type": "code",
   "execution_count": null,
   "metadata": {},
   "outputs": [],
   "source": [
    "#---------------------------------------------------------------\n",
    "# Original plot\n",
    "out.mag.B.plot_2D_Data(\"angle\", component_list=[\"radial\"], **dict_2D)\n",
    "#---------------------------------------------------------------"
   ]
  },
  {
   "cell_type": "code",
   "execution_count": null,
   "metadata": {},
   "outputs": [],
   "source": [
    "#---------------------------------------------------------------\n",
    "# Original plot\n",
    "out.mag.B.plot_2D_Data(\"angle{°}\", component_list=[\"radial\"], unit=\"G\", **dict_2D)\n",
    "#---------------------------------------------------------------"
   ]
  },
  {
   "cell_type": "markdown",
   "metadata": {},
   "source": [
    "## 7) How to compare data\n",
    "\n",
    "`pyleecan` also allows to easily compare several fields, even if they are defined on different discretizations. To do so, plot commands have a `data_list` parameter.\n",
    "\n",
    "In the following example, we compare the flux density from the reference simulation, and from the open-circuit one:"
   ]
  },
  {
   "cell_type": "code",
   "execution_count": null,
   "metadata": {},
   "outputs": [],
   "source": [
    "#---------------------------------------------------------------\n",
    "# compare simu and simu2\n",
    "out.mag.B.plot_2D_Data(\n",
    "    \"time\", component_list=[\"radial\"], data_list=[out2.mag.B], legend_list=[\"Reference\", \"Open-circuit\"], **dict_2D\n",
    ")\n",
    "#---------------------------------------------------------------"
   ]
  },
  {
   "cell_type": "markdown",
   "metadata": {},
   "source": [
    "We can also compare spectra:"
   ]
  },
  {
   "cell_type": "code",
   "execution_count": null,
   "metadata": {},
   "outputs": [],
   "source": [
    "#---------------------------------------------------------------\n",
    "# compare simu and simu2\n",
    "out.mag.B.plot_2D_Data(\n",
    "    \"freqs<1000\", component_list=[\"radial\"], data_list=[out2.mag.B], legend_list=[\"Reference\", \"Open-circuit\"], **dict_2D\n",
    ")\n",
    "#---------------------------------------------------------------"
   ]
  },
  {
   "cell_type": "markdown",
   "metadata": {},
   "source": [
    "## 8) 3D plots\n",
    "\n",
    "3D plots (for data defined on at least two axes) can also be created using the `plot_3D_Data` command:"
   ]
  },
  {
   "cell_type": "code",
   "execution_count": null,
   "metadata": {},
   "outputs": [],
   "source": [
    "#---------------------------------------------------------------\n",
    "# 3D surface plot\n",
    "out.mag.B.plot_3D_Data(\"time\", \"angle{°}\", component_list=[\"radial\"], **dict_3D)\n",
    "#---------------------------------------------------------------"
   ]
  },
  {
   "cell_type": "markdown",
   "metadata": {},
   "source": [
    "To visualize this surface from above, use `is_2D_view`:"
   ]
  },
  {
   "cell_type": "code",
   "execution_count": null,
   "metadata": {},
   "outputs": [],
   "source": [
    "#---------------------------------------------------------------\n",
    "# 2D surface plot\n",
    "out.mag.B.plot_3D_Data(\"time\", \"angle{°}\", component_list=[\"radial\"], is_2D_view=True, **dict_3D)\n",
    "#---------------------------------------------------------------"
   ]
  },
  {
   "cell_type": "markdown",
   "metadata": {},
   "source": [
    "The field is automatically reconstructed using the periodicities specified in the simulation. It is always possible to plot a single period:"
   ]
  },
  {
   "cell_type": "code",
   "execution_count": null,
   "metadata": {},
   "outputs": [],
   "source": [
    "#---------------------------------------------------------------\n",
    "# 2D surface plot over one period\n",
    "out.mag.B.plot_3D_Data(\"time[smallestperiod]\", \"angle[smallestperiod]{°}\", component_list=[\"radial\"], is_2D_view=True, **dict_3D)\n",
    "#---------------------------------------------------------------"
   ]
  },
  {
   "cell_type": "markdown",
   "metadata": {},
   "source": [
    "2D Fourier Transforms also rely on `plot_3D_Data` command:"
   ]
  },
  {
   "cell_type": "code",
   "execution_count": null,
   "metadata": {},
   "outputs": [],
   "source": [
    "#---------------------------------------------------------------\n",
    "# 3D stem plot of 2D fft\n",
    "out.mag.B.plot_3D_Data(\n",
    "    \"freqs->elec_order=[0,10]\", \"wavenumber->space_order=[-10,10]\", N_stem=50, component_list=[\"radial\"], **dict_3D\n",
    ")\n",
    "#---------------------------------------------------------------"
   ]
  },
  {
   "cell_type": "markdown",
   "metadata": {},
   "source": [
    "It can also be viewed in 2D:"
   ]
  },
  {
   "cell_type": "code",
   "execution_count": null,
   "metadata": {},
   "outputs": [],
   "source": [
    "#---------------------------------------------------------------\n",
    "# 2D plot of 2D fft\n",
    "out.mag.B.plot_3D_Data(\n",
    "    \"freqs->elec_order=[0,10]\",\n",
    "    \"wavenumber->space_order=[-10,10]\",\n",
    "    N_stem=50,\n",
    "    component_list=[\"radial\"],\n",
    "    is_2D_view=True,\n",
    "    **dict_3D\n",
    ")\n",
    "#---------------------------------------------------------------"
   ]
  },
  {
   "cell_type": "markdown",
   "metadata": {},
   "source": [
    "Many plots were made using the magnetic flux density, but they are of course applicable to any 2D output data, like the force computed using the airgap surface force:"
   ]
  },
  {
   "cell_type": "code",
   "execution_count": null,
   "metadata": {},
   "outputs": [],
   "source": [
    "#---------------------------------------------------------------\n",
    "# 2D fft of airgap surface force\n",
    "out.force.AGSF.plot_3D_Data(\n",
    "    \"freqs->elec_order=[0,10]\",\n",
    "    \"wavenumber->space_order=[-10,10]\",\n",
    "    N_stem=50,\n",
    "    component_list=[\"radial\"],\n",
    "    is_2D_view=True,\n",
    "    **dict_3D\n",
    ")\n",
    "#---------------------------------------------------------------"
   ]
  },
  {
   "cell_type": "code",
   "execution_count": null,
   "metadata": {},
   "outputs": [],
   "source": []
  }
 ],
 "metadata": {
  "kernelspec": {
   "display_name": "Python 3",
   "language": "python",
   "name": "python3"
  },
  "language_info": {
   "codemirror_mode": {
    "name": "ipython",
    "version": 3
   },
   "file_extension": ".py",
   "mimetype": "text/x-python",
   "name": "python",
   "nbconvert_exporter": "python",
   "pygments_lexer": "ipython3",
   "version": "3.8.6"
  },
  "toc": {
   "base_numbering": 1,
   "nav_menu": {},
   "number_sections": false,
   "sideBar": false,
   "skip_h1_title": false,
   "title_cell": "Table of Contents",
   "title_sidebar": "Contents",
   "toc_cell": false,
   "toc_position": {
    "height": "calc(100% - 180px)",
    "left": "10px",
    "top": "150px",
    "width": "311.6px"
   },
   "toc_section_display": false,
   "toc_window_display": false
  }
 },
 "nbformat": 4,
 "nbformat_minor": 4
}
