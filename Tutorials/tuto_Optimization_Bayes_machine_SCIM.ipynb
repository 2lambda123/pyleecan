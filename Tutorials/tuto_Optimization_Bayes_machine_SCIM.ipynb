{
 "cells": [
  {
   "cell_type": "markdown",
   "metadata": {},
   "source": [
    "# Version information"
   ]
  },
  {
   "cell_type": "code",
   "execution_count": 1,
   "metadata": {},
   "outputs": [
    {
     "name": "stdout",
     "output_type": "stream",
     "text": [
      "Running date: March 25, 2022\n",
      "Pyleecan version:1.3.7\n",
      "SciDataTool version:2.2.3\n"
     ]
    }
   ],
   "source": [
    "from datetime import date\n",
    "print(\"Running date:\", date.today().strftime(\"%B %d, %Y\"))\n",
    "import pyleecan\n",
    "print(\"Pyleecan version:\" + pyleecan.__version__)\n",
    "import SciDataTool\n",
    "print(\"SciDataTool version:\" + SciDataTool.__version__)"
   ]
  },
  {
   "cell_type": "markdown",
   "metadata": {},
   "source": [
    "# How to solve optimization problem in Pyleecan, using Bayesian optimisation\n",
    "\n",
    "This tutorial explains how to use Pyleecan to solve **constrained global optimization** problem using bayesian optimization.\n",
    "\n",
    "The notebook related to this tutorial is available on [GitHub](https://github.com/Eomys/pyleecan/tree/master/Tutorials/).  \n",
    "\n",
    "The tutorial introduces the different objects to define that enable to parametrize each aspect of the optimization. To do so, we will present an example to maximize the average torque and minimize the ripple torque by varying..\n",
    "\n",
    "## Problem definition\n",
    "\n",
    "The object [**OptiProblem**](https://www.pyleecan.org/pyleecan.Classes.OptiObjFunc.html) contains all the optimization problem characteristics:  \n",
    "\n",
    "- the simulation/machine to iterate on\n",
    "- the design variable to vary some parameters of the simulation (e.g. input current, topology of the machine)  \n",
    "- the objective functions to minimize for the simulation  \n",
    "- some constraints (optional)  \n",
    "\n",
    "### Reference simulation definition\n",
    "\n",
    "To define the problem, we first define a reference simulation. Each optimization evaluation will copy the reference simulation, set the value of the design variables and run the new simulation.\n",
    "\n",
    "This exemple uses the simulation defined in the tutorial [How to define a simulation to call FEMM](https://www.pyleecan.org/tuto_Simulation_FEMM.html), (with less precision for FEMM mesh to speed up the calculations)"
   ]
  },
  {
   "cell_type": "code",
   "execution_count": 2,
   "metadata": {},
   "outputs": [],
   "source": [
    "from numpy import ones, pi, array, linspace\n",
    "import numpy as np\n",
    "from pyleecan.Classes.OPslip import OPslip\n",
    "from pyleecan.Classes.Simu1 import Simu1\n",
    "from pyleecan.Classes.Output import Output\n",
    "from pyleecan.Classes.InputCurrent import InputCurrent\n",
    "from pyleecan.Classes.OPdq import OPdq\n",
    "from pyleecan.Classes.ImportMatrixVal import ImportMatrixVal\n",
    "from pyleecan.Classes.MagFEMM import MagFEMM\n",
    "from pyleecan.Classes.ImportGenVectLin import ImportGenVectLin\n",
    "from pyleecan.Functions.load import load\n",
    "from pyleecan.definitions import DATA_DIR\n",
    "from os.path import join\n",
    "\n",
    "# Import the machine from a script\n",
    "SCIM_001 = load(join(DATA_DIR, \"Machine\", \"SCIM_001.json\"))\n",
    "\n",
    "# Create the Simulation\n",
    "simu_ref = Simu1(name=\"EM_SIPMSM_AL_001\", machine=SCIM_001)   \n",
    "\n",
    "# Defining Simulation Input\n",
    "Nt = 2\n",
    "N0 = 3000\n",
    "Is = ImportMatrixVal(\n",
    "    value=np.array(\n",
    "        [\n",
    "            [6.97244193e-06, 2.25353053e02, -2.25353060e02],\n",
    "            [-2.60215295e02, 1.30107654e02, 1.30107642e02],\n",
    "            #             [-6.97244208e-06, -2.25353053e02, 2.25353060e02],\n",
    "            #             [2.60215295e02, -1.30107654e02, -1.30107642e02],\n",
    "        ]\n",
    "    )\n",
    ")\n",
    "Ir = ImportMatrixVal(value=np.zeros(30))\n",
    "time = ImportGenVectLin(start=0, stop=0.015, num=Nt, endpoint=True)\n",
    "Na_tot = 64\n",
    "\n",
    "simu_ref.input = InputCurrent(\n",
    "        Is=Is,\n",
    "        Ir=Ir,  # zero current for the rotor\n",
    "        OP=OPslip(N0=N0),\n",
    "        time=time,\n",
    "        Na_tot=Na_tot,\n",
    "        angle_rotor_initial=0.5216 + np.pi,\n",
    "    )\n",
    "\n",
    "# Definition of the magnetic simulation (is_mmfr=False => no flux from the magnets)\n",
    "simu_ref.mag = MagFEMM(\n",
    "    type_BH_stator=2, # 0 to use the B(H) curve, \n",
    "                           # 1 to use linear B(H) curve according to mur_lin,\n",
    "                           # 2 to enforce infinite permeability (mur_lin =100000)\n",
    "    type_BH_rotor=2,  # 0 to use the B(H) curve, \n",
    "                           # 1 to use linear B(H) curve according to mur_lin,\n",
    "                           # 2 to enforce infinite permeability (mur_lin =100000)\n",
    "    file_name = \"\", # Name of the file to save the FEMM model\n",
    "    is_periodicity_a=True, # Use Angular periodicity\n",
    "    is_periodicity_t=True,  # Use time periodicity\n",
    ")\n",
    "\n",
    "# We only use the magnetic part \n",
    "simu_ref.force = None\n",
    "simu_ref.struct = None "
   ]
  },
  {
   "cell_type": "markdown",
   "metadata": {},
   "source": [
    "### Minimization problem definition\n",
    "\n",
    "To setup the optimization problem, we define some objective functions using the [**OptiObjective**](https://www.pyleecan.org/pyleecan.Classes.OptiObjective.html) object (which behave the same way as [**DataKeeper**](https://www.pyleecan.org/pyleecan.Classes.DataKeeper.html). \n",
    "\n",
    "Each objective function is stored in the *keeper* attribute of a **OptiObjective**. keeper is a function and can be set either with a string (mandatory to be able to save the object) or directly with a function (the function will be discarded when saving). This type of function takes an output object in argument and returns a float to **minimize**. \n",
    "\n",
    "We gather the objective functions into a list:"
   ]
  },
  {
   "cell_type": "code",
   "execution_count": 3,
   "metadata": {},
   "outputs": [],
   "source": [
    "from pyleecan.Classes.OptiObjective import OptiObjective\n",
    "import numpy as np\n",
    "\n",
    "objs = [\n",
    "    OptiObjective(\n",
    "        symbol=\"obj1\",\n",
    "        name=\"Maximization of the torque average\",\n",
    "        keeper=\"lambda output: output.mag.Tem_av\",\n",
    "    ),\n",
    "    OptiObjective(\n",
    "        symbol=\"obj2\",\n",
    "        name=\"Minimization of the torque ripple\",\n",
    "        keeper=\"lambda output: output.mag.Tem_rip_norm\",\n",
    "    ),\n",
    "]"
   ]
  },
  {
   "cell_type": "markdown",
   "metadata": {},
   "source": [
    "The first objective is the torque average that is taken from the output.\n",
    "\n",
    "The second objective is the torque ripple.\n",
    "\n",
    "### Design variables\n",
    "We use the object [**OptiDesignVar**](https://www.pyleecan.org/pyleecan.Classes.OptiDesignVar.html) to define the design variables. \n",
    "\n",
    "\n",
    "To define a design variable, we have to specify different attributes:  \n",
    "\n",
    "- *name* to define the design variable name\n",
    "- *symbol* to access to the variable / for plot (must be unique)\n",
    "- *unit* to define the variable unit\n",
    "- *type_var* to specify the variable \"type\":  \n",
    "    - *interval* for continuous variables  \n",
    "    - *set* for discrete variables  \n",
    "- *space* to set the variable bound\n",
    "- *setter* to access to the variable in the simu object. This attribute **must begin by \"simu\"**.  \n",
    "- *get_value* to define the variable for the first generation, the function takes the space in argument and returns the variable value  \n",
    "\n",
    "We store the design variables in a dictionnary that will be in argument of the problem. For this example, we define 30 design variables: \n",
    "\n",
    "  "
   ]
  },
  {
   "cell_type": "code",
   "execution_count": 4,
   "metadata": {},
   "outputs": [],
   "source": [
    "from pyleecan.Classes.OptiDesignVar import OptiDesignVar\n",
    "import random\n",
    "\n",
    "my_vars = []\n",
    "\n",
    "def gen_setter(i):\n",
    "    def new_setter(simu, value):\n",
    "        simu.input.Ir.value[i] = value\n",
    "\n",
    "    return new_setter\n",
    "\n",
    "for i in range(30):\n",
    "    my_vars.append(\n",
    "        OptiDesignVar(\n",
    "            name=\"Ir({})\".format(i),\n",
    "            symbol=\"var_\" + str(i),\n",
    "            type_var=\"interval\",\n",
    "            space=[0, 1],\n",
    "            get_value=lambda space: np.random.uniform(*space),\n",
    "            setter=gen_setter(i),\n",
    "        )\n",
    "    )\n"
   ]
  },
  {
   "cell_type": "markdown",
   "metadata": {},
   "source": [
    "\n",
    "\n",
    "### Constraints\n",
    "\n",
    "The class [**OptiConstraint**](https://www.pyleecan.org/pyleecan.Classes.OptiConstraint.html) enables to define some constraint. For each constraint, we have to define the following attributes:  \n",
    "\n",
    "- name  \n",
    "- type_const: type of constraint  \n",
    "    - \"==\"  \n",
    "    - \"<=\"  \n",
    "    - \"<\"  \n",
    "    - \">=\"  \n",
    "    - \">\"  \n",
    "- value: value to compare  \n",
    "- get_variable: function which takes output in argument and returns the constraint value  \n",
    "\n",
    "We also store the constraints into a dict."
   ]
  },
  {
   "cell_type": "code",
   "execution_count": 5,
   "metadata": {},
   "outputs": [],
   "source": [
    "from pyleecan.Classes.OptiConstraint import OptiConstraint\n",
    "\n",
    "my_constraint = [\n",
    "    OptiConstraint(\n",
    "        name = \"const1\",\n",
    "        type_const = \"<=\",\n",
    "        value = 700,\n",
    "        get_variable = \"lambda output: abs(output.mag.Tem_rip_pp)\",\n",
    "    )\n",
    "]"
   ]
  },
  {
   "cell_type": "markdown",
   "metadata": {},
   "source": [
    "### Evaluation function\n",
    "\n",
    "\n",
    "We can create our own evaluation function if needed by defining a function which only take an output in argument. \n"
   ]
  },
  {
   "cell_type": "code",
   "execution_count": 6,
   "metadata": {},
   "outputs": [],
   "source": [
    "from pyleecan.Classes.OptiProblem import OptiProblem\n",
    "\n",
    "# ### Evaluation\n",
    "def evaluate(output):\n",
    "    x = output.simu.input.Ir.value\n",
    "    f1 = lambda x: x[0]\n",
    "    g = lambda x: 1 + (9 / 29) * np.sum(x[1:])\n",
    "    h = lambda f1, g: 1 - np.sqrt(f1 / g) - (f1 / g) * np.sin(10 * np.pi * f1)\n",
    "    output.mag.Tem_av = f1(x)\n",
    "    output.mag.Tem_rip_norm = g(x) * h(f1(x), g(x))\n",
    "\n",
    "# ### Defining the problem\n",
    "my_prob = OptiProblem(\n",
    "    simu=simu_ref, design_var=my_vars, obj_func=objs, eval_func=evaluate\n",
    ")"
   ]
  },
  {
   "cell_type": "markdown",
   "metadata": {},
   "source": [
    "## Solver\n",
    "\n",
    "Pyleecan separes the problem and solver definition to be able to create different solver that uses the same objects. \n",
    "\n",
    "The class [**OptiBayesAlgSmoot**]() enables to solve our problem using Gaussian processes to create a modelization of the machine. This modelization will be cheap to run, and will allow us to perform the [NSGA-II](https://www.iitk.ac.in/kangal/Deb_NSGA-II.pdf) genetical algorithm. The algorithm takes several parameters:  \n",
    "\n",
    "|Parameter|Description|Type|Default Value|  \n",
    "| :-: | :- | :-: | :-: |  \n",
    "|*problem*|Problem to solve|**OptiProblem**|mandatory|\n",
    "|*nb\\_start*|Number of points to start the Gaussian Process|**int**|30|  \n",
    "|*nb\\_iter*|Number of iteration|**int**|5|   \n",
    "|*nb\\_gen*|Generation number|**int**|10|  \n",
    "|*size\\_pop*| Population size per generation|**int**|10| \n",
    "\n",
    "  \n",
    "The `solve` method performs the optimization and returns an [**OutputMultiOpti**](https://www.pyleecan.org/pyleecan.Classes.OutputMultiOpti.html) object which contains the results."
   ]
  },
  {
   "cell_type": "code",
   "execution_count": 7,
   "metadata": {},
   "outputs": [
    {
     "name": "stdout",
     "output_type": "stream",
     "text": [
      "12:27:35 Starting optimization...\n",
      "\tNumber of iterations: 10\n",
      "\t\n",
      "iteration 1\n",
      "PI max value : 1.0\n",
      "xopt : [2.41443217e-06 7.07483320e-02 3.39080392e-01 3.69722641e-01\n",
      " 3.52704792e-01 4.59369272e-01 3.29822489e-01 6.47441180e-01\n",
      " 1.41996009e-01 1.66637997e-02 9.44177679e-02 2.75791528e-01\n",
      " 2.88758981e-02 4.16260026e-01 1.92401954e-01 2.37771923e-01\n",
      " 3.68823011e-02 1.74025834e-01 1.88543724e-02 4.19755692e-02\n",
      " 6.11463490e-02 3.61630772e-01 2.29465108e-01 1.23564999e-01\n",
      " 6.81577860e-02 2.96320637e-01 4.91406384e-01 6.49445618e-01\n",
      " 6.24098849e-01 3.26629793e-01]\n",
      "iteration 2\n",
      "PI max value : 0.9999999999831856\n",
      "xopt : [0.62768507 0.6020441  0.20809361 0.27585027 0.11450501 0.48538627\n",
      " 0.04142113 0.11788649 0.39740056 0.2667637  0.36926671 0.43702521\n",
      " 0.30486815 0.5817365  0.11138876 0.1669312  0.29025924 0.4546879\n",
      " 0.51357763 0.67675175 0.13497856 0.19342573 0.19905094 0.22273136\n",
      " 0.21892893 0.59750487 0.68951736 0.21759136 0.03737435 0.09927703]\n",
      "iteration 3\n",
      "PI max value : 0.9965960462404454\n",
      "xopt : [0.44460414 0.20331046 0.3408598  0.29364989 0.4518288  0.17972474\n",
      " 0.30798922 0.06528126 0.3483298  0.43916786 0.40142028 0.00539591\n",
      " 0.36523207 0.26312868 0.1031396  0.56148925 0.07547172 0.22884515\n",
      " 0.35528347 0.45212087 0.31203298 0.25879571 0.37134552 0.18601359\n",
      " 0.28255643 0.29020165 0.69266352 0.60302733 0.01500635 0.52120136]\n",
      "iteration 4\n",
      "PI max value : 0.969404131579881\n",
      "xopt : [0.81738346 0.77765448 0.2413095  0.34128751 0.30106331 0.07890805\n",
      " 0.16152376 0.2869407  0.21864578 0.45105725 0.2871288  0.58053238\n",
      " 0.49950708 0.79954502 0.24113813 0.234901   0.65037275 0.11833991\n",
      " 0.59552958 0.36216297 0.12798697 0.37498693 0.38922253 0.3177356\n",
      " 0.47658169 0.58602702 0.59336434 0.11030509 0.57070265 0.16039393]\n",
      "iteration 5\n",
      "PI max value : 0.22046310998309893\n",
      "xopt : [0.86557127 0.29057668 0.16477543 0.39896591 0.66906835 0.00373742\n",
      " 0.49052032 0.14253988 0.50140814 0.2681794  0.52983446 0.99552333\n",
      " 0.81675565 0.56955671 0.91669906 0.33409158 0.27164196 0.21754289\n",
      " 0.48434314 0.17747348 0.10713588 0.73078993 0.51887568 0.71759602\n",
      " 0.42413883 0.24362878 0.10240978 0.14195716 0.62488983 0.16339588]\n",
      "iteration 6\n",
      "PI max value : 0.7219712743221929\n",
      "xopt : [6.26260515e-01 2.68389789e-01 4.14585318e-01 4.42644579e-01\n",
      " 7.98418738e-02 5.78928197e-01 5.12908451e-04 1.69737509e-01\n",
      " 1.52491741e-01 6.95327181e-01 6.79514728e-01 2.24467513e-02\n",
      " 5.75354658e-01 4.15026587e-01 1.30771973e-01 2.33794324e-01\n",
      " 4.54187975e-01 1.42436080e-02 7.40087669e-01 3.28633708e-01\n",
      " 1.27782479e-01 2.71007689e-01 3.81914246e-03 4.45690873e-03\n",
      " 2.35965575e-01 2.05989212e-01 7.31020874e-01 8.80012163e-01\n",
      " 7.18508718e-02 4.64904710e-02]\n",
      "iteration 7\n",
      "PI max value : 0.6285082525717589\n",
      "xopt : [0.74199704 0.37817414 0.17283447 0.41666325 0.10365259 0.55763425\n",
      " 0.03679118 0.03825851 0.47880364 0.01947067 0.11913417 0.70669845\n",
      " 0.09642003 0.72325722 0.39348892 0.00687947 0.23486876 0.22740355\n",
      " 0.56948975 0.81327018 0.2312951  0.35883205 0.22273701 0.44963023\n",
      " 0.15819759 0.70627052 0.84222859 0.03244051 0.97804213 0.16338288]\n",
      "iteration 8\n",
      "PI max value : 0.5411662733404836\n",
      "xopt : [7.98965530e-01 4.28132042e-01 8.27663382e-02 7.17536005e-01\n",
      " 2.34849864e-01 3.82897324e-01 7.56365312e-02 6.17448975e-01\n",
      " 9.00440218e-01 1.81586230e-01 2.88478136e-01 3.33251296e-01\n",
      " 2.62138519e-01 6.15679590e-01 9.79082832e-02 7.67245152e-02\n",
      " 4.69688955e-01 4.88823171e-01 5.64326363e-01 3.19072281e-04\n",
      " 5.03137960e-01 7.19166765e-01 2.78755677e-01 1.42249740e-03\n",
      " 1.41115476e-01 9.63865921e-02 8.94143894e-01 3.27158143e-01\n",
      " 4.95321715e-01 4.90616097e-02]\n",
      "iteration 9\n",
      "PI max value : 0.5044941493005727\n",
      "xopt : [0.8311735  0.5999664  0.53115023 0.27785335 0.47573338 0.12414786\n",
      " 0.32399343 0.48838226 0.0607081  0.69176318 0.5787088  0.53703262\n",
      " 0.49455481 0.42463586 0.26373528 0.44767198 0.70983932 0.36959822\n",
      " 0.54665918 0.33134274 0.13319674 0.19842105 0.59952102 0.52690837\n",
      " 0.64700601 0.70942716 0.17460193 0.13826875 0.37325021 0.4068424 ]\n",
      "iteration 10\n",
      "PI max value : 0.9999992239097337\n",
      "xopt : [6.24455894e-01 6.29867770e-01 1.73829409e-01 1.58434767e-01\n",
      " 6.76365977e-02 7.58509897e-01 2.04919082e-02 1.85194225e-01\n",
      " 4.27798946e-01 1.08107449e-01 3.01099427e-01 6.09586032e-01\n",
      " 2.18360703e-01 4.50772538e-01 3.62788633e-04 1.25268434e-01\n",
      " 1.95439110e-01 5.09786839e-01 3.28170202e-01 7.51063196e-01\n",
      " 6.62528682e-02 1.74873254e-01 2.41767552e-01 2.07347279e-01\n",
      " 1.22678778e-01 7.21070658e-01 5.56718505e-01 8.70643362e-02\n",
      " 2.19860885e-01 3.99752210e-02]\n",
      "Model is well refined, NSGA2 is running...\n",
      "Optimization done, get the front with .result.F and the set with .result.X\n",
      "12:30:48 End of optimization, solved in 0:03:12.214681.\n",
      "\n"
     ]
    }
   ],
   "source": [
    "from pyleecan.Classes.OptiBayesAlgSmoot import OptiBayesAlgSmoot\n",
    "# Solve problem with Bayes\n",
    "solver = OptiBayesAlgSmoot(problem=my_prob, nb_start=300, nb_iter=10, nb_gen=100, size_pop=40)\n",
    "res = solver.solve()"
   ]
  },
  {
   "cell_type": "markdown",
   "metadata": {},
   "source": [
    "During the algorithm the object displays some data containing:\n",
    "\n",
    "- number of errors: failure during the objective function execution\n",
    "- number of infeasible: number of individual with constraints violations"
   ]
  },
  {
   "cell_type": "markdown",
   "metadata": {},
   "source": [
    "## Plot results\n",
    "\n",
    "**OutputMultiOpti** has several methods to display some results:  \n",
    "\n",
    "- `plot_generation`: to plot individuals for in 2D  \n",
    "- `plot_pareto`: to plot the pareto front in 2D    "
   ]
  },
  {
   "cell_type": "code",
   "execution_count": 11,
   "metadata": {},
   "outputs": [
    {
     "name": "stderr",
     "output_type": "stream",
     "text": [
      "*c* argument looks like a single numeric RGB or RGBA sequence, which should be avoided as value-mapping will have precedence in case its length matches with *x* & *y*.  Please use the *color* keyword-argument or provide a 2D array with a single row if you intend to specify the same RGB or RGBA value for all points.\n",
      "c:\\Users\\hkule\\Documents\\PIE-Pyleecan\\pyleecan\\pyleecan\\Methods\\Optimization\\OptiBayesAlgSmoot\\plot_pareto.py:101: UserWarning: Matplotlib is currently using module://matplotlib_inline.backend_inline, which is a non-GUI backend, so cannot show the figure.\n",
      "  fig.show()\n",
      "c:\\Users\\hkule\\Documents\\PIE-Pyleecan\\pyleecan\\pyleecan\\Methods\\Optimization\\OptiBayesAlgSmoot\\plot_pareto.py:106: UserWarning: Matplotlib is currently using module://matplotlib_inline.backend_inline, which is a non-GUI backend, so cannot show the figure.\n",
      "  fig.show()\n"
     ]
    },
    {
     "data": {
      "text/plain": [
       "<Figure size 432x288 with 0 Axes>"
      ]
     },
     "metadata": {},
     "output_type": "display_data"
    },
    {
     "data": {
      "image/png": "[encoded data removed]",
      "text/plain": [
       "<Figure size 432x288 with 1 Axes>"
      ]
     },
     "metadata": {
      "needs_background": "light"
     },
     "output_type": "display_data"
    }
   ],
   "source": [
    "%matplotlib inline \n",
    "import matplotlib.pyplot as plt \n",
    "\n",
    "# Create a figure containing 4 subfigures (axes) \n",
    "fig = plt.figure()\n",
    "\n",
    "# Plot pareto front in fitness space \n",
    "res.plot_pareto(\n",
    "    x_symbol = \"Tem_av\", \n",
    "    y_symbol = \"Tem_h1\", \n",
    "    is_show_fig=True\n",
    ")\n",
    "\n",
    "fig.tight_layout()"
   ]
  },
  {
   "cell_type": "code",
   "execution_count": null,
   "metadata": {},
   "outputs": [],
   "source": []
  }
 ],
 "metadata": {
  "kernelspec": {
   "display_name": "Python 3 (ipykernel)",
   "language": "python",
   "name": "python3"
  },
  "language_info": {
   "codemirror_mode": {
    "name": "ipython",
    "version": 3
   },
   "file_extension": ".py",
   "mimetype": "text/x-python",
   "name": "python",
   "nbconvert_exporter": "python",
   "pygments_lexer": "ipython3",
   "version": "3.8.10"
  }
 },
 "nbformat": 4,
 "nbformat_minor": 4
}
